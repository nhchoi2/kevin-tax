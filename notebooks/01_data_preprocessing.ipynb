{
 "cells": [
  {
   "cell_type": "code",
   "execution_count": 13,
   "metadata": {},
   "outputs": [],
   "source": [
    "\n",
    "import os  # 운영체제 관련 기능 사용 (환경 변수 로드 등)\n",
    "from dotenv import load_dotenv  # .env 파일에서 환경 변수를 불러오기 위한 라이브러리\n",
    "from pinecone import Pinecone"
   ]
  },
  {
   "cell_type": "code",
   "execution_count": 14,
   "metadata": {},
   "outputs": [],
   "source": [
    "# 아래 두개는 필수\n",
    "import pdfplumber\n",
    "from llama_index.llms.huggingface_api import HuggingFaceInferenceAPI\n",
    "from llama_index.embeddings.huggingface import HuggingFaceEmbedding\n",
    "from llama_index.core import Document, Settings, VectorStoreIndex"
   ]
  },
  {
   "cell_type": "code",
   "execution_count": 15,
   "metadata": {},
   "outputs": [],
   "source": [
    "PINECONE_ENV = os.getenv(\"PINECONE_ENV\")\n",
    "PINECONE_API_KEY= os.getenv(\"PINECONE_API_KEY\")\n",
    "HUGGINGFACE_API_KEY= os.getenv(\"HUGGINGFACE_API_KEY\")\n"
   ]
  },
  {
   "cell_type": "code",
   "execution_count": 16,
   "metadata": {},
   "outputs": [],
   "source": [
    "llm = HuggingFaceInferenceAPI(\n",
    "    # 모델을 불러오자(허깅페이스 번개 표시)\n",
    "    model_name = 'google/gemma-2-9b-it',\n",
    "    # 토큰을 집어 넣자\n",
    "    token = HUGGINGFACE_API_KEY, # 리드 할거니까 리드 토큰\n",
    "    # 템퍼리처 (꾸밈있이 0  또는 꾸밈없이 1)\n",
    "    temperature = 0.3,\n",
    "    # 응답할때 얼마나 길게 할지 ( 1024 = 최대 )\n",
    "    max_new_token = 1024\n",
    ")"
   ]
  },
  {
   "cell_type": "code",
   "execution_count": 17,
   "metadata": {},
   "outputs": [],
   "source": [
    "embed_model = HuggingFaceEmbedding(\n",
    "    model_name = 'sentence-transformers/all-MiniLM-L6-v2')"
   ]
  },
  {
   "cell_type": "code",
   "execution_count": 18,
   "metadata": {},
   "outputs": [],
   "source": [
    "Settings.llm = llm\n",
    "Settings.embed_model = embed_model"
   ]
  },
  {
   "cell_type": "code",
   "execution_count": 19,
   "metadata": {},
   "outputs": [],
   "source": [
    "def extract_text_from_pdf(pdf_path):\n",
    "  text = ''\n",
    "  with pdfplumber.open(pdf_path) as pdf:\n",
    "    for page in pdf.pages:\n",
    "      text = text + page.extract_text() +'\\n'\n",
    "  return text"
   ]
  },
  {
   "cell_type": "code",
   "execution_count": 20,
   "metadata": {},
   "outputs": [],
   "source": [
    "pdf_path = '../data/raw/세법.pdf'"
   ]
  },
  {
   "cell_type": "code",
   "execution_count": 41,
   "metadata": {},
   "outputs": [],
   "source": [
    "extract_text = extract_text_from_pdf(pdf_path)"
   ]
  },
  {
   "cell_type": "code",
   "execution_count": 42,
   "metadata": {},
   "outputs": [],
   "source": [
    "# 더큐먼트 만드는 형식\n",
    "document = [Document(text=extract_text)]"
   ]
  },
  {
   "cell_type": "code",
   "execution_count": null,
   "metadata": {},
   "outputs": [],
   "source": [
    "\n"
   ]
  },
  {
   "cell_type": "code",
   "execution_count": 22,
   "metadata": {},
   "outputs": [],
   "source": [
    "# Pinecone 초기화\n",
    "pinecone_client = Pinecone(api_key=PINECONE_API_KEY, environment=PINECONE_ENV)\n",
    "\n",
    "# 인덱스 이름 지정 (데이터베이스 이름)\n",
    "PINECONE_INDEX_NAME = 'kevin-tex'"
   ]
  },
  {
   "cell_type": "code",
   "execution_count": 23,
   "metadata": {},
   "outputs": [],
   "source": [
    "# 기존의 인덱스 디비가 없으면, 디비 생성\n",
    "# 처음이면 바로 만들고 기존에 있는게 있으면 바로 사용 할 수 있게\n",
    "from pinecone import ServerlessSpec"
   ]
  },
  {
   "cell_type": "code",
   "execution_count": 24,
   "metadata": {},
   "outputs": [],
   "source": [
    "\n",
    "\n",
    "if PINECONE_INDEX_NAME not in pinecone_client.list_indexes().names():\n",
    "  pinecone_client.create_index(    # 파라미터중 네임 디멘션 스펙 총 3개는 필수도\n",
    "      name=PINECONE_INDEX_NAME,\n",
    "      dimension=384,   # 몇 차원짜리의 백터냐? (글자를 숫자로 바꾸는데 몇차원짜리를 할 거야?) - 데이터베이스를 만들떄는 차원수를 정확하게 정해줘야 한다\n",
    "      metric='cosine',  # cosine을 쓰지 않아도 자동 디폴트 값이 코사인 이긴 하다 # 서버리스로 배포 할거다\n",
    "      spec = ServerlessSpec(cloud=\"aws\", region=PINECONE_ENV))"
   ]
  },
  {
   "cell_type": "code",
   "execution_count": 25,
   "metadata": {},
   "outputs": [],
   "source": [
    "# Pinecone 벡터 저장소에 연결\n",
    "from llama_index.vector_stores.pinecone import PineconeVectorStore"
   ]
  },
  {
   "cell_type": "code",
   "execution_count": 26,
   "metadata": {},
   "outputs": [],
   "source": [
    "vector_store = PineconeVectorStore(\n",
    "    pinecone_index=pinecone_client.Index(PINECONE_INDEX_NAME)\n",
    ")"
   ]
  },
  {
   "cell_type": "code",
   "execution_count": 27,
   "metadata": {},
   "outputs": [],
   "source": [
    "# Document(문자)를 인덱싱(숫자로) 한다"
   ]
  },
  {
   "cell_type": "code",
   "execution_count": 28,
   "metadata": {},
   "outputs": [],
   "source": [
    "from llama_index.core import StorageContext"
   ]
  },
  {
   "cell_type": "code",
   "execution_count": 29,
   "metadata": {},
   "outputs": [],
   "source": [
    "storage_context = StorageContext.from_defaults(vector_store=vector_store)"
   ]
  },
  {
   "cell_type": "code",
   "execution_count": null,
   "metadata": {},
   "outputs": [
    {
     "ename": "NameError",
     "evalue": "name 'document' is not defined",
     "output_type": "error",
     "traceback": [
      "\u001b[1;31m---------------------------------------------------------------------------\u001b[0m",
      "\u001b[1;31mNameError\u001b[0m                                 Traceback (most recent call last)",
      "Cell \u001b[1;32mIn[30], line 1\u001b[0m\n\u001b[1;32m----> 1\u001b[0m index \u001b[38;5;241m=\u001b[39m VectorStoreIndex\u001b[38;5;241m.\u001b[39mfrom_documents(\u001b[43mdocument\u001b[49m, storage_context\u001b[38;5;241m=\u001b[39mstorage_context)\n",
      "\u001b[1;31mNameError\u001b[0m: name 'document' is not defined"
     ]
    },
    {
     "ename": "",
     "evalue": "",
     "output_type": "error",
     "traceback": [
      "\u001b[1;31mThe Kernel crashed while executing code in the current cell or a previous cell. \n",
      "\u001b[1;31mPlease review the code in the cell(s) to identify a possible cause of the failure. \n",
      "\u001b[1;31mClick <a href='https://aka.ms/vscodeJupyterKernelCrash'>here</a> for more info. \n",
      "\u001b[1;31mView Jupyter <a href='command:jupyter.viewOutput'>log</a> for further details."
     ]
    }
   ],
   "source": [
    "index = VectorStoreIndex.from_documents(document, storage_context=storage_context)"
   ]
  },
  {
   "cell_type": "code",
   "execution_count": 53,
   "metadata": {},
   "outputs": [],
   "source": [
    "# Pinecon 에 저장된 인덱스로, 쿼리 수행\n",
    "# 궁금 한건 쿼리 엔진에게 물어보면 된다\n",
    "\n",
    "query_engine = index.as_query_engine()"
   ]
  },
  {
   "cell_type": "code",
   "execution_count": 12,
   "metadata": {},
   "outputs": [
    {
     "ename": "NameError",
     "evalue": "name 'query_engine' is not defined",
     "output_type": "error",
     "traceback": [
      "\u001b[1;31m---------------------------------------------------------------------------\u001b[0m",
      "\u001b[1;31mNameError\u001b[0m                                 Traceback (most recent call last)",
      "Cell \u001b[1;32mIn[12], line 1\u001b[0m\n\u001b[1;32m----> 1\u001b[0m response \u001b[38;5;241m=\u001b[39m \u001b[43mquery_engine\u001b[49m\u001b[38;5;241m.\u001b[39mquery(\u001b[38;5;124m'\u001b[39m\u001b[38;5;124m소득세\u001b[39m\u001b[38;5;124m'\u001b[39m)\n",
      "\u001b[1;31mNameError\u001b[0m: name 'query_engine' is not defined"
     ]
    }
   ],
   "source": [
    "response = query_engine.query('소득세')\n",
    "# 이렇게 하면 내 말을 숫자로 변경 해서 파인콘 서버로 보낸다.\n",
    "# 파인콘 서버에서 내가 보낸 숫자와 비슷한것으로 바꾼다\n",
    "# 글자로 바꿔서 자연스럽게 만든다\n",
    "# 모델과 임베딩은 쌍으로\n",
    "# 궁합이 잘 맞는 모델과임베딩이 있다.\n",
    "# openAI를 이용하면 임베딩도 OpenAi"
   ]
  },
  {
   "cell_type": "code",
   "execution_count": 63,
   "metadata": {},
   "outputs": [
    {
     "name": "stdout",
     "output_type": "stream",
     "text": [
      "탈세 관련 내용은 제공된 텍스트에는 없습니다.\n",
      "\n",
      "\n",
      "\n"
     ]
    }
   ],
   "source": [
    "print(response)"
   ]
  }
 ],
 "metadata": {
  "kernelspec": {
   "display_name": "hi",
   "language": "python",
   "name": "python3"
  },
  "language_info": {
   "codemirror_mode": {
    "name": "ipython",
    "version": 3
   },
   "file_extension": ".py",
   "mimetype": "text/x-python",
   "name": "python",
   "nbconvert_exporter": "python",
   "pygments_lexer": "ipython3",
   "version": "3.10.16"
  }
 },
 "nbformat": 4,
 "nbformat_minor": 2
}
